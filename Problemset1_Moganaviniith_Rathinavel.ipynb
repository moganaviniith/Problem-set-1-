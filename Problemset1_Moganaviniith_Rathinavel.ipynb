{
 "cells": [
  {
   "cell_type": "code",
   "execution_count": null,
   "id": "55b845b2",
   "metadata": {},
   "outputs": [],
   "source": [
    "QUESTION 1:What data type is each of the following? 5 5.0 5 > 1 '5' 5 * 2 '5' * 2 '5' + '2' 5 / 2 5 % 2 {5, 2, 1} 5 == 3 Pi (the number)"
   ]
  },
  {
   "cell_type": "code",
   "execution_count": 1,
   "id": "77b8b411",
   "metadata": {},
   "outputs": [
    {
     "name": "stdout",
     "output_type": "stream",
     "text": [
      "Value: 5, Data Type: System.Int32\n",
      "Value: 5, Data Type: System.Double\n",
      "Value: True, Data Type: System.Boolean\n",
      "Value: 5, Data Type: System.Char\n",
      "Value: 10, Data Type: System.Int32\n",
      "Value: 106, Data Type: System.Int32\n",
      "Value: 2, Data Type: System.Int32\n",
      "Value: 1, Data Type: System.Int32\n",
      "Value: False, Data Type: System.Boolean\n",
      "Value: 3.141592653589793, Data Type: System.Double\n",
      "Data Type of myArray: System.Int32[]\n"
     ]
    }
   ],
   "source": [
    "// Answer for question number 1\n",
    "// Reference for Pi (the number)\n",
    "\n",
    "// Create an array called dataTypes containing various data types and values\n",
    "object[] dataTypes = new object[]\n",
    "{\n",
    "    5,        \n",
    "    5.0,        \n",
    "    5 > 1,     \n",
    "    '5',        \n",
    "    5 * 2,      \n",
    "    '5' * 2,    \n",
    "    5 / 2,      \n",
    "    5 % 2,      \n",
    "    5 == 3,     \n",
    "    Math.PI     \n",
    "};\n",
    "\n",
    "// Iterate through the elements in the dataTypes array and print their values and data types\n",
    "foreach (var item in dataTypes)\n",
    "{\n",
    "    Console.WriteLine($\"Value: {item}, Data Type: {item.GetType()}\");\n",
    "}\n",
    "\n",
    "// Create an integer array called myArray\n",
    "int[] myArray = { 5, 2, 1 };\n",
    "\n",
    "// Print the data type of the myArray array itself\n",
    "Console.WriteLine($\"Data Type of myArray: {myArray.GetType()}\");\n"
   ]
  },
  {
   "cell_type": "code",
   "execution_count": null,
   "id": "b4e427fb",
   "metadata": {},
   "outputs": [],
   "source": [
    "QUESTION 2:Write (and evaluate) C# expressions that answer these questions:\n",
    "\n",
    "a. How many letters are there in 'Supercalifragilisticexpialidocious'?\n",
    "\n",
    "b. Does 'Supercalifragilisticexpialidocious' contain 'ice' as a substring?\n",
    "\n",
    "c. Which of the following words is the longest: Supercalifragilisticexpialidocious, Honorificabilitudinitatibus, or Bababadalgharaghtakamminarronnkonn?\n",
    "\n",
    "d. Which composer comes first in the dictionary: 'Berlioz', 'Borodin', 'Brian', 'Bartok', 'Bellini', 'Buxtehude', 'Bernstein'. Which one comes last?"
   ]
  },
  {
   "cell_type": "code",
   "execution_count": 2,
   "id": "e157c9b5",
   "metadata": {},
   "outputs": [
    {
     "name": "stdout",
     "output_type": "stream",
     "text": [
      "The length of the string 'Supercalifragilisticexpialidocious' is 34\n",
      "Does the string 'Supercalifragilisticexpialidocious' contain the substring 'ice': True\n",
      "The longest word among the strings is: Supercalifragilisticexpialidocious\n",
      "The alphabetically first composer name is: Bartok\n"
     ]
    }
   ],
   "source": [
    "// Answer for question number 2\n",
    "// (a) Calculate the length of a string\n",
    "string inputString = \"Supercalifragilisticexpialidocious\";\n",
    "int stringLength = inputString.Length;\n",
    "Console.WriteLine($\"The length of the string '{inputString}' is {stringLength}\");\n",
    "\n",
    "// (b) Check if the string contains the substring 'ice'\n",
    "bool containsIce = inputString.Contains(\"ice\");\n",
    "Console.WriteLine($\"Does the string '{inputString}' contain the substring 'ice': {containsIce}\");\n",
    "\n",
    "// (c) Find the longest word among three given strings\n",
    "string[] wordsArray = {\"Supercalifragilisticexpialidocious\", \"Honorificabilitudinitatibus\", \"Bababadalgharaghtakamminarronnkonn\"};\n",
    "\n",
    "string longestWord = wordsArray[0];\n",
    "foreach (string word in wordsArray)\n",
    "{\n",
    "    if (word.Length > longestWord.Length)\n",
    "    {\n",
    "        longestWord = word;\n",
    "    }\n",
    "}\n",
    "\n",
    "Console.WriteLine($\"The longest word among the strings is: {longestWord}\");\n",
    "\n",
    "// (d) Sort a list of composer names alphabetically\n",
    "string[] composerNames = {\"Berlioz\", \"Borodin\", \"Brian\", \"Bartok\", \"Bellini\", \"Buxtehude\", \"Bernstein\"};\n",
    "Array.Sort(composerNames);\n",
    "Console.WriteLine($\"The alphabetically first composer name is: {composerNames[0]}\");\n"
   ]
  },
  {
   "cell_type": "code",
   "execution_count": null,
   "id": "f4116275",
   "metadata": {},
   "outputs": [],
   "source": [
    "QUESTION 3:Implement function triangleArea(a,b,c) that takes as input the lengths of the 3 sides of a triangle and returns the area of the triangle. By Heron's formula, the area of a triangle with side lengths a, b, and c is s(s − a)(s − b)(s − c), where\n",
    "s = (a + b + c)/2.\n",
    ">>> triangleArea(2,2,2) 1.7320508075688772"
   ]
  },
  {
   "cell_type": "code",
   "execution_count": 7,
   "id": "2a60d416",
   "metadata": {},
   "outputs": [
    {
     "data": {
      "text/plain": [
       "1.7320508075688772"
      ]
     },
     "execution_count": 7,
     "metadata": {},
     "output_type": "execute_result"
    }
   ],
   "source": [
    "// Answer for question number 3\n",
    "static double triangleArea(double a, double b, double c)\n",
    "{\n",
    "    // Calculate the semi-perimeter (s)\n",
    "    double s = (a + b + c) / 2.0;\n",
    "\n",
    "    // Calculate the area using Heron's formula\n",
    "    double area = Math.Sqrt(s * (s - a) * (s - b) * (s - c));\n",
    "\n",
    "    return area;\n",
    "}\n",
    "\n",
    "\n",
    "triangleArea(2,2,2)"
   ]
  },
  {
   "cell_type": "code",
   "execution_count": null,
   "id": "e516a37d",
   "metadata": {},
   "outputs": [],
   "source": [
    "QUESTION 4:Write a program in C# Sharp to separate odd and even integers in separate arrays. Go to the editor Test Data : Input the number of elements to be stored in the array :5 Input 5 elements in the array : element - 0 : 25 element - 1 : 47 element - 2 : 42 element - 3 : 56 element - 4 : 32 Expected Output: The Even elements are: 42 56 32 The Odd elements are : 25 47"
   ]
  },
  {
   "cell_type": "code",
   "execution_count": 10,
   "id": "a4fe0093",
   "metadata": {},
   "outputs": [
    {
     "name": "stdout",
     "output_type": "stream",
     "text": [
      "Total number of elements: 5\n",
      "Elements: 25 47 42 56 32\n",
      "\n",
      "The odd elements are:\n",
      "25 47 \n",
      "The even elements are:\n",
      "42 56 32 "
     ]
    }
   ],
   "source": [
    "// Answer for question number 4\n",
    "// Define an array of integers\n",
    "int[] numbers = {25, 47, 42, 56, 32};\n",
    "\n",
    "// Output the total number of elements in the array and list the elements\n",
    "Console.WriteLine($\"Total number of elements: {numbers.Length}\\nElements: {string.Join(\" \", numbers)}\");\n",
    "\n",
    "// Create separate arrays for odd and even numbers\n",
    "int[] oddArray = new int[numbers.Length];\n",
    "int[] evenArray = new int[numbers.Length];\n",
    "\n",
    "int oddCount = 0;\n",
    "int evenCount = 0;\n",
    "\n",
    "// Separate odd and even numbers into their respective arrays\n",
    "foreach (int num in numbers)\n",
    "{\n",
    "    if (num % 2 == 0)\n",
    "    {\n",
    "        evenArray[evenCount] = num;\n",
    "        evenCount++;\n",
    "    }\n",
    "    else\n",
    "    {\n",
    "        oddArray[oddCount] = num;\n",
    "        oddCount++;\n",
    "    }\n",
    "}\n",
    "\n",
    "// Output the odd elements\n",
    "Console.WriteLine(\"\\nThe odd elements are:\");\n",
    "foreach (int odd in oddArray)\n",
    "{\n",
    "    if (odd != 0)\n",
    "    {\n",
    "        Console.Write(odd + \" \");\n",
    "    }\n",
    "}\n",
    "\n",
    "// Output the even elements\n",
    "Console.WriteLine(\"\\nThe even elements are:\");\n",
    "foreach (int even in evenArray)\n",
    "{\n",
    "    if (even != 0)\n",
    "    {\n",
    "        Console.Write(even + \" \");\n",
    "    }\n",
    "}\n"
   ]
  },
  {
   "cell_type": "code",
   "execution_count": null,
   "id": "5fb34b24",
   "metadata": {},
   "outputs": [],
   "source": [
    "QUESTION 5:a. Write a function inside(x,y,x1,y1,x2,y2) that returns True or False depending on whether the point (x,y) lies in the rectangle with lower left corner (x1,y1) and upper right corner (x2,y2).\n",
    "\n",
    "inside(1,1,0,0,2,3)\n",
    "\n",
    "True\n",
    "\n",
    "inside(-1,-1,0,0,2,3)\n",
    "\n",
    "False\n",
    "\n",
    "b. Use function inside() from part a. to write an expression that tests whether the point (1,1) lies in both of the following rectangles: one with lower left corner (0.3, 0.5) and upper right corner (1.1, 0.7) and the other with lower left corner (0.5, 0.2) and upper right corner (1.1, 2)."
   ]
  },
  {
   "cell_type": "code",
   "execution_count": 11,
   "id": "d62979b1",
   "metadata": {},
   "outputs": [
    {
     "name": "stdout",
     "output_type": "stream",
     "text": [
      "Is point (1, 1) inside the rectangle defined by (0, 0) and (2, 3)?\n",
      "True\n",
      "Is point (-1, -1) inside the rectangle defined by (0, 0) and (2, 3)?\n",
      "False\n",
      "\n",
      "Checking if point (1, 1) is inside rectangles defined by (0.3, 0.5), (1.1, 0.7) and (0.5, 0.2), (1.1, 2):\n",
      "The point (1, 1) is not inside both rectangles.\n"
     ]
    }
   ],
   "source": [
    "// Answer for question number 5\n",
    "// Define a function to check if a point (x, y) is inside a rectangle defined by two points (x1, y1) and (x2, y2)\n",
    "static bool IsPointInsideRectangle(double x, double y, double x1, double y1, double x2, double y2)\n",
    "{\n",
    "    return (x1 < x && x < x2 && y1 < y && y < y2);\n",
    "}\n",
    "\n",
    "// Check if point (1, 1) is inside the rectangle defined by (0, 0) and (2, 3)\n",
    "Console.WriteLine(\"Is point (1, 1) inside the rectangle defined by (0, 0) and (2, 3)?\");\n",
    "bool isInsideRectangle1 = IsPointInsideRectangle(1, 1, 0, 0, 2, 3);\n",
    "Console.WriteLine(isInsideRectangle1);\n",
    "\n",
    "// Check if point (-1, -1) is inside the rectangle defined by (0, 0) and (2, 3)\n",
    "Console.WriteLine(\"Is point (-1, -1) inside the rectangle defined by (0, 0) and (2, 3)?\");\n",
    "bool isInsideRectangle2 = IsPointInsideRectangle(-1, -1, 0, 0, 2, 3);\n",
    "Console.WriteLine(isInsideRectangle2 + \"\\n\");\n",
    "\n",
    "// Check if point (1, 1) is inside both rectangles\n",
    "Console.WriteLine(\"Checking if point (1, 1) is inside rectangles defined by (0.3, 0.5), (1.1, 0.7) and (0.5, 0.2), (1.1, 2):\");\n",
    "bool isInsideRectangle3 = IsPointInsideRectangle(1, 1, 0.3, 0.5, 1.1, 0.7);\n",
    "bool isInsideRectangle4 = IsPointInsideRectangle(1, 1, 0.5, 0.2, 1.1, 2);\n",
    "\n",
    "if (isInsideRectangle3 && isInsideRectangle4)\n",
    "{\n",
    "    Console.WriteLine(\"The point (1, 1) is inside both rectangles.\");\n",
    "}\n",
    "else\n",
    "{\n",
    "    Console.WriteLine(\"The point (1, 1) is not inside both rectangles.\");\n",
    "}\n"
   ]
  },
  {
   "cell_type": "code",
   "execution_count": null,
   "id": "d1fbfbb7",
   "metadata": {},
   "outputs": [],
   "source": [
    "QUESTION 6:You can turn a word into pig-Latin using the following two rules (simplified):\n",
    "• If the word starts with a consonant, move that letter to the end and append 'ay'. For example, 'happy' becomes 'appyhay' and 'pencil' becomes 'encilpay'.\n",
    "• If the word starts with a vowel, simply append 'way' to the end of the word. For example, 'enter' becomes 'enterway' and 'other' becomes 'otherway' . For our purposes, there are 5 vowels: a, e, i, o, u (so we count y as a consonant).\n",
    "Write a function pig() that takes a word (i.e., a string) as input and returns its pig- Latin form. Your function should still work if the input word contains upper case characters. Your output should always be lower case however.\n",
    ">>> pig('happy') 'appyhay'\n",
    ">>> pig('Enter') 'enterway'"
   ]
  },
  {
   "cell_type": "code",
   "execution_count": 1,
   "id": "22b6a4e5",
   "metadata": {},
   "outputs": [
    {
     "name": "stdout",
     "output_type": "stream",
     "text": [
      "apppyhay\n",
      "enterway\n"
     ]
    }
   ],
   "source": [
    " # Answer for qusetion number 6\n",
    "def pig_latin_translation(word):\n",
    "    \n",
    "    # Convert the word to lowercase, if needed\n",
    "    word = word.lower()\n",
    "    \n",
    "    # Check if the word starts with a vowel\n",
    "    if word[0] in {\"a\", \"e\", \"i\", \"o\", \"u\"}:\n",
    "        pig_latin_word = word + \"way\"\n",
    "    \n",
    "    # If the word  # Answer for qustion numer 6starts with a consonant\n",
    "    else:\n",
    "        # Move the first letter to the end and add \"ay\"\n",
    "        pig_latin_word = word[1:] + word[0] + \"ay\"\n",
    "    \n",
    "    return pig_latin_word\n",
    "\n",
    "# Example usage:\n",
    "print(pig_latin_translation(\"happpy\"))\n",
    "print(pig_latin_translation(\"Enter\"))"
   ]
  },
  {
   "cell_type": "code",
   "execution_count": null,
   "id": "9d0b6e37",
   "metadata": {},
   "outputs": [],
   "source": [
    "QUESTION 7:File bloodtype1.txt records blood-types of patients (A, B, AB, O or OO) at a clinic. Write a function bldcount() that reads the file with name name and reports (i.e., prints) how many patients there are in each bloodtype.\n",
    ">>> bldcount('bloodtype.txt')\n",
    "There are 10 patients of blood type A. There is one patient of blood type B. There are 10 patients of blood type AB. There are 12 patients of blood type O. There are no patients of blood type OO."
   ]
  },
  {
   "cell_type": "code",
   "execution_count": 2,
   "id": "bdfacfaa",
   "metadata": {},
   "outputs": [
    {
     "name": "stdout",
     "output_type": "stream",
     "text": [
      "There are 15 patients with blood type A.\n",
      "There is one patient with blood type B.\n",
      "There are 13 patients with blood type AB.\n",
      "There are 15 patients with blood type O.\n",
      "There are no patients with blood type OO.\n"
     ]
    }
   ],
   "source": [
    " # Answer for question number 7\n",
    "def count_blood_types(filename):\n",
    "    # Initialize a dictionary to store counts of different blood types\n",
    "    blood_type_counts = {\"A\": 0, \"B\": 0, \"AB\": 0, \"O\": 0, \"OO\": 0}\n",
    "\n",
    "    try:\n",
    "        # Open the specified file for reading\n",
    "        with open(filename, 'r') as file:\n",
    "            # Read the contents of the file and split them into words\n",
    "            words = file.read().split()\n",
    "\n",
    "            # Iterate through each word in the file\n",
    "            for word in words:\n",
    "                # Convert the blood type to uppercase for consistency\n",
    "                blood_type = word.upper()\n",
    "                \n",
    "                # Check if the blood type is valid and update the count\n",
    "                if blood_type in blood_type_counts:\n",
    "                    blood_type_counts[blood_type] += 1\n",
    "\n",
    "        # Print the count for each blood type\n",
    "        for blood_type, count in blood_type_counts.items():\n",
    "            if count == 1:\n",
    "                print(f'There is one patient with blood type {blood_type}.')\n",
    "            elif count > 1:\n",
    "                print(f'There are {count} patients with blood type {blood_type}.')\n",
    "            else:\n",
    "                print(f'There are no patients with blood type {blood_type}.')\n",
    "\n",
    "    except FileNotFoundError:\n",
    "        print(f\"File '{filename}' not found.\")\n",
    "\n",
    "# Example usage: Count and display blood type statistics from a file\n",
    "count_blood_types('bloodtype1.txt')\n"
   ]
  },
  {
   "cell_type": "code",
   "execution_count": null,
   "id": "0a3c5bdc",
   "metadata": {},
   "outputs": [],
   "source": [
    "QUESTION 8:\n",
    "\n",
    "Write a function curconv() that takes as input:\n",
    "\n",
    "a currency represented using a string (e.g., 'JPY' for the Japanese Yen or\n",
    "'EUR' for the Euro) 2. an amount and then converts and returns the amount in US dollars.\n",
    "\n",
    "curconv('EUR', 100)\n",
    "\n",
    "122.96544\n",
    "\n",
    "curconv('JPY', 100)\n",
    "\n",
    "1.241401"
   ]
  },
  {
   "cell_type": "code",
   "execution_count": 3,
   "id": "19f060b4",
   "metadata": {},
   "outputs": [
    {
     "name": "stdout",
     "output_type": "stream",
     "text": [
      "100 EUR is equivalent to 122.97 USD.\n",
      "100 JPY is equivalent to 1.24 USD.\n"
     ]
    }
   ],
   "source": [
    "# Answer for question number 8\n",
    "def extract_currency_rates(filename):\n",
    "    try:\n",
    "        # Create an empty dictionary to store currency exchange rates\n",
    "        currency_rates = {}\n",
    "        with open(filename, 'r') as file:\n",
    "            # Read each line from the file and split it into code and rate\n",
    "            for line in file:\n",
    "                parts = line.split()\n",
    "                code, rate = parts[0], float(parts[1])\n",
    "                currency_rates[code] = rate\n",
    "    except FileNotFoundError:\n",
    "        print(f\"File '{filename}' not found.\")\n",
    "    return currency_rates\n",
    "\n",
    "# Extract currency exchange rates from the file 'currencies.txt'\n",
    "currency_rates = extract_currency_rates(\"currencies.txt\")\n",
    "\n",
    "def convert_currency(currency_code, amount):\n",
    "    # Calculate the conversion based on the given currency code and amount\n",
    "    if currency_code in currency_rates:\n",
    "        return amount * currency_rates[currency_code]\n",
    "    else:\n",
    "        print(\"Currency code '\" + currency_code + \"' not found in the list.\")\n",
    "\n",
    "# Convert 100 EUR to the target currency\n",
    "eur_to_usd = convert_currency('EUR', 100)\n",
    "print(f\"100 EUR is equivalent to {eur_to_usd:.2f} USD.\")\n",
    "\n",
    "# Convert 100 JPY to the target currency\n",
    "jpy_to_usd = convert_currency('JPY', 100)\n",
    "print(f\"100 JPY is equivalent to {jpy_to_usd:.2f} USD.\")\n"
   ]
  },
  {
   "cell_type": "code",
   "execution_count": null,
   "id": "094a33d2",
   "metadata": {},
   "outputs": [],
   "source": [
    "QUESTION 9:Each of the following will cause an exception (an error). Identify what type of exception each will cause.\n",
    "\n",
    "Trying to add incompatible variables, as in adding 6 + ‘a’\n",
    "\n",
    "Referring to the 12th item of a list that has only 10 items\n",
    "\n",
    "Using a value that is out of range for a function’s input, such as calling math.sqrt(-1.0)\n",
    "\n",
    "Using an undeclared variable, such as print(x) when x has not been defined\n",
    "\n",
    "Trying to open a file that does not exist, such as mistyping the file name or looking in the wrong directory."
   ]
  },
  {
   "cell_type": "code",
   "execution_count": 17,
   "id": "a8956994",
   "metadata": {},
   "outputs": [
    {
     "ename": "NameError",
     "evalue": "name 'x' is not defined",
     "output_type": "error",
     "traceback": [
      "\u001b[1;31m---------------------------------------------------------------------------\u001b[0m",
      "\u001b[1;31mNameError\u001b[0m                                 Traceback (most recent call last)",
      "Cell \u001b[1;32mIn[17], line 12\u001b[0m\n\u001b[0;32m      1\u001b[0m \u001b[38;5;66;03m# Answer for qustion number 9\u001b[39;00m\n\u001b[0;32m      2\u001b[0m \u001b[38;5;66;03m#x = 6 + 'a'\u001b[39;00m\n\u001b[0;32m      3\u001b[0m \u001b[38;5;66;03m# TypeError: unsupported operand type(s) for +: 'int' and 'str'\u001b[39;00m\n\u001b[1;32m   (...)\u001b[0m\n\u001b[0;32m      9\u001b[0m \u001b[38;5;66;03m#x = math.sqrt(-1.0)\u001b[39;00m\n\u001b[0;32m     10\u001b[0m \u001b[38;5;66;03m# ValueError: math domain error\u001b[39;00m\n\u001b[1;32m---> 12\u001b[0m \u001b[38;5;28mprint\u001b[39m(x)\n\u001b[0;32m     13\u001b[0m \u001b[38;5;66;03m# NameError: name 'x' is not defined\u001b[39;00m\n\u001b[0;32m     15\u001b[0m \u001b[38;5;28;01mwith\u001b[39;00m \u001b[38;5;28mopen\u001b[39m(\u001b[38;5;124m'\u001b[39m\u001b[38;5;124myueh.txt\u001b[39m\u001b[38;5;124m'\u001b[39m, \u001b[38;5;124m'\u001b[39m\u001b[38;5;124mr\u001b[39m\u001b[38;5;124m'\u001b[39m) \u001b[38;5;28;01mas\u001b[39;00m file:\n",
      "\u001b[1;31mNameError\u001b[0m: name 'x' is not defined"
     ]
    }
   ],
   "source": [
    "# Answer for question number 9\n",
    "x = 6 + 'a'\n",
    "# TypeError: unsupported operand type(s) for +: 'int' and 'str'\n",
    "\n",
    "list = [1,2,3,4,5,67,8,9,10]\n",
    "print(list[12])\n",
    "# IndexError: list index out of range\n",
    "\n",
    "x = math.sqrt(-1.0)\n",
    "# ValueError: math domain error\n",
    "\n",
    "print(x)\n",
    "# NameError: name 'x' is not defined\n",
    "\n",
    "with open('yueh.txt', 'r') as file:\n",
    "        content = file.read()\n",
    "# FileNotFoundError: [Errno 2] No such file or directory: 'yueh.txt'"
   ]
  },
  {
   "cell_type": "code",
   "execution_count": null,
   "id": "e86017f6",
   "metadata": {},
   "outputs": [],
   "source": [
    "QUESTION 10:Encryption is the process of hiding the meaning of a text by substituting letters in the message with other letters, according to some system. If the process is successful, no one but the intended recipient can understand the encrypted message. Cryptanalysis refers to attempts to undo the encryption, even if some details of the encryption are unknown (for example, if an encrypted message has been intercepted). The first step of cryptanalysis is often to build up a table of letter frequencies in the encrypted text. Assume that the string letters is already defined as 'abcdefghijklmnopqrstuvwxyz'. Write a function called frequencies() that takes a string as its only parameter, and returns a list of integers, showing the number of times each character appears in the text. Your function may ignore any characters that are not in letters.\n",
    ">>> frequencies('The quick red fox got bored and went home.') [1, 1, 1, 3, 5, 1, 1, 2, 1, 0, 1, 0, 1, 2, 4, 0, 1, 2, 0, 2,\n",
    "1, 0, 1, 1, 0, 0]\n",
    ">>> frequencies('apple')"
   ]
  },
  {
   "cell_type": "code",
   "execution_count": 18,
   "id": "b6b81818",
   "metadata": {},
   "outputs": [
    {
     "name": "stdout",
     "output_type": "stream",
     "text": [
      "[1, 1, 1, 3, 5, 1, 1, 2, 1, 0, 1, 0, 1, 2, 4, 0, 1, 2, 0, 3, 1, 0, 1, 1, 0, 0]\n",
      "[1, 0, 0, 0, 1, 0, 0, 0, 0, 0, 0, 1, 0, 0, 0, 2, 0, 0, 0, 0, 0, 0, 0, 0, 0, 0]\n"
     ]
    }
   ],
   "source": [
    "# Answer for question number 10\n",
    "def calculate_letter_frequencies(input_string):\n",
    "    # Define the alphabet\n",
    "    alphabet = \"abcdefghijklmnopqrstuvwxyz\"\n",
    "    \n",
    "    # Initialize a list to store letter frequencies, initially all set to 0\n",
    "    letter_frequencies = [0] * len(alphabet)\n",
    "    \n",
    "    # Convert the input string to lowercase for consistent counting\n",
    "    input_string = input_string.lower()\n",
    "    \n",
    "    # Iterate through each character in the input string\n",
    "    for char in input_string:\n",
    "        # Check if the character is a letter from the alphabet\n",
    "        if char in alphabet:\n",
    "            # Find the index of the character in the alphabet\n",
    "            index = alphabet.index(char)\n",
    "            # Increment the corresponding frequency count\n",
    "            letter_frequencies[index] += 1\n",
    "    \n",
    "    return letter_frequencies\n",
    "\n",
    "# Calculate letter frequencies for the input string\n",
    "result1 = calculate_letter_frequencies(\"The quick red fox got bored and went home.\")\n",
    "print(result1)\n",
    "\n",
    "result2 = calculate_letter_frequencies(\"apple\")\n",
    "print(result2)\n"
   ]
  },
  {
   "cell_type": "code",
   "execution_count": null,
   "id": "7a08427f",
   "metadata": {},
   "outputs": [],
   "source": []
  }
 ],
 "metadata": {
  "kernelspec": {
   "display_name": "Python 3 (ipykernel)",
   "language": "python",
   "name": "python3"
  },
  "language_info": {
   "codemirror_mode": {
    "name": "ipython",
    "version": 3
   },
   "file_extension": ".py",
   "mimetype": "text/x-python",
   "name": "python",
   "nbconvert_exporter": "python",
   "pygments_lexer": "ipython3",
   "version": "3.11.5"
  }
 },
 "nbformat": 4,
 "nbformat_minor": 5
}
